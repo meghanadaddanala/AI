{
  "nbformat": 4,
  "nbformat_minor": 0,
  "metadata": {
    "colab": {
      "name": "assignment1.ipynb",
      "provenance": [],
      "collapsed_sections": [],
      "authorship_tag": "ABX9TyObKScrTUKcg30VIaZN+zus",
      "include_colab_link": true
    },
    "kernelspec": {
      "name": "python3",
      "display_name": "Python 3"
    },
    "language_info": {
      "name": "python"
    }
  },
  "cells": [
    {
      "cell_type": "markdown",
      "metadata": {
        "id": "view-in-github",
        "colab_type": "text"
      },
      "source": [
        "<a href=\"https://colab.research.google.com/github/meghanadaddanala/AI/blob/main/assignment1.ipynb\" target=\"_parent\"><img src=\"https://colab.research.google.com/assets/colab-badge.svg\" alt=\"Open In Colab\"/></a>"
      ]
    },
    {
      "cell_type": "code",
      "metadata": {
        "id": "qg1PwXFwwtDL",
        "colab": {
          "base_uri": "https://localhost:8080/"
        },
        "outputId": "c89e84ef-45c3-4c4a-a45d-071dc698a1e1"
      },
      "source": [
        "from scipy.optimize import linprog\n",
        "obj=[-50,-120]        #objective function matrix      \n",
        "a_ieq=[[7000,2000],[10,30],[1,1]]  #inequailty constraints of coefficient matrix\n",
        "b_ieq=[700000,1200,110]            #inequailty constraints of constant matrix\n",
        "boundary=[(0,float('inf')),(0,float('inf'))] #limits of a,b\n",
        "opt=linprog(c=obj, A_ub=a_ieq, b_ub=b_ieq, A_eq=None, b_eq=None, bounds=boundary, method='simplex')\n",
        "print('number of hectares required for wheat crop=', round(opt.x[0]))\n",
        "print('number of hectares required for barley crop=', round(opt.x[1]))\n",
        "print( 'optimal solution for the maximum profit=',round(opt.x[0])*(50) + round(opt.x[1])*(120))"
      ],
      "execution_count": null,
      "outputs": [
        {
          "output_type": "stream",
          "text": [
            "number of hectares required for wheat crop= 98\n",
            "number of hectares required for barley crop= 7\n",
            "optimal solution for the maximum profit= 5740\n"
          ],
          "name": "stdout"
        }
      ]
    }
  ]
}